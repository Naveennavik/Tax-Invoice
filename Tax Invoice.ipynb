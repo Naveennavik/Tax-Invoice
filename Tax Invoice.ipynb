{
 "cells": [
  {
   "cell_type": "code",
   "execution_count": 2,
   "metadata": {},
   "outputs": [
    {
     "name": "stdout",
     "output_type": "stream",
     "text": [
      "Requirement already satisfied: tesseract in c:\\users\\navik\\anaconda3\\lib\\site-packages (0.1.3)\n"
     ]
    }
   ],
   "source": [
    "!pip install tesseract"
   ]
  },
  {
   "cell_type": "code",
   "execution_count": 3,
   "metadata": {},
   "outputs": [],
   "source": [
    "import pytesseract #tesseract is the package to convert the image to string"
   ]
  },
  {
   "cell_type": "code",
   "execution_count": 4,
   "metadata": {
    "scrolled": false
   },
   "outputs": [
    {
     "name": "stdout",
     "output_type": "stream",
     "text": [
      "Demo Company INVOICE\n",
      "\n",
      "ocd\n",
      "\n",
      "Demo Company Phone: 111-222-3333\n",
      "1234 Main Steet E-Mail : 333-444-444 Invoice No. 11083\n",
      "ashiand, KY 41102 Web: nt /vww.ksotware net Account # C1006\n",
      "\n",
      "Date 08-14-2008\n",
      "Due fy 08-31-2008\n",
      "Terms None\n",
      "\n",
      "Polo. PO1234\n",
      "SalesRep  SalesPersant\n",
      "\n",
      "Ea = SbipTo\n",
      "‘Test Customer\n",
      "\n",
      "1234 Main Street\n",
      "\n",
      "Ashland, 41101\n",
      "\n",
      " \n",
      "\n",
      "    \n",
      "   \n",
      "\n",
      "Eee Cig ue\n",
      "\n",
      "$10.00\n",
      "$150.00\n",
      "\n",
      "    \n",
      "       \n",
      "\n",
      "   \n",
      "\n",
      "    \n",
      "\n",
      "$10.00\n",
      "$100.00,\n",
      "\n",
      "8KU1222 Test Import Name - Description Goes Here\n",
      "\n",
      "      \n",
      "\n",
      "Labor - Example labor iter. Quartity is number of hours spent,\n",
      "price is hourly rate. Quartity accepts decimal values\n"
     ]
    }
   ],
   "source": [
    "from PIL import Image\n",
    "\n",
    "from pytesseract import image_to_string\n",
    "\n",
    "img=Image.open('Demo.JPG')#opening the image that is sent by you\n",
    "\n",
    "text=image_to_string(img, lang='eng')#converting it to string and assigning it to text\n",
    "\n",
    "print (text)#printing the text"
   ]
  },
  {
   "cell_type": "code",
   "execution_count": 5,
   "metadata": {},
   "outputs": [
    {
     "name": "stderr",
     "output_type": "stream",
     "text": [
      "C:\\Users\\NAVIK\\Anaconda3\\lib\\site-packages\\fuzzywuzzy\\fuzz.py:11: UserWarning: Using slow pure-python SequenceMatcher. Install python-Levenshtein to remove this warning\n",
      "  warnings.warn('Using slow pure-python SequenceMatcher. Install python-Levenshtein to remove this warning')\n"
     ]
    }
   ],
   "source": [
    "from fuzzywuzzy import fuzz #FuzzyWuzzy is a library of Python which is used for string matching. \n",
    "#Fuzzy string matching is the process of finding strings that match a given pattern"
   ]
  },
  {
   "cell_type": "code",
   "execution_count": 6,
   "metadata": {},
   "outputs": [],
   "source": [
    "a = 'Invoice No'#assigning a to 'Invoice No'\n",
    "b = text #assigning b to text"
   ]
  },
  {
   "cell_type": "code",
   "execution_count": 7,
   "metadata": {},
   "outputs": [
    {
     "data": {
      "text/plain": [
       "'Demo Company INVOICE\\n\\nocd\\n\\nDemo Company Phone: 111-222-3333\\n1234 Main Steet E-Mail : 333-444-444 Invoice No. 11083\\nashiand, KY 41102 Web: nt /vww.ksotware net Account # C1006\\n\\nDate 08-14-2008\\nDue fy 08-31-2008\\nTerms None\\n\\nPolo. PO1234\\nSalesRep  SalesPersant\\n\\nEa = SbipTo\\n‘Test Customer\\n\\n1234 Main Street\\n\\nAshland, 41101\\n\\n \\n\\n    \\n   \\n\\nEee Cig ue\\n\\n$10.00\\n$150.00\\n\\n    \\n       \\n\\n   \\n\\n    \\n\\n$10.00\\n$100.00,\\n\\n8KU1222 Test Import Name - Description Goes Here\\n\\n      \\n\\nLabor - Example labor iter. Quartity is number of hours spent,\\nprice is hourly rate. Quartity accepts decimal values'"
      ]
     },
     "execution_count": 7,
     "metadata": {},
     "output_type": "execute_result"
    }
   ],
   "source": [
    "b #printing b to check"
   ]
  },
  {
   "cell_type": "code",
   "execution_count": 8,
   "metadata": {},
   "outputs": [
    {
     "name": "stdout",
     "output_type": "stream",
     "text": [
      "37\n",
      "11083\n"
     ]
    }
   ],
   "source": [
    "for i in b.split('\\n'): # split the each sentence to a new line\n",
    "    if 'Invoice'  in i: # If there is a word Invoice in i\n",
    "        print(i.index('Invoice'))#if there is invoice in i print its index that is 37 printed in output\n",
    "        for j in i[i.index('Invoice'):].split(): #to split the word and numeric\n",
    "            if j.isnumeric():#if it is numeric print it\n",
    "                print(j)\n",
    "                "
   ]
  },
  {
   "cell_type": "code",
   "execution_count": 9,
   "metadata": {},
   "outputs": [
    {
     "name": "stdout",
     "output_type": "stream",
     "text": [
      "Invoice No Demo 50\n",
      "Invoice No Company 14\n",
      "Invoice No INVOICE 20\n",
      "Invoice No ocd 67\n",
      "Invoice No Demo 50\n",
      "Invoice No Company 14\n",
      "Invoice No Phone: 33\n",
      "Invoice No 111-222-3333 0\n",
      "Invoice No 1234 0\n",
      "Invoice No Main 25\n",
      "Invoice No Steet 20\n",
      "Invoice No E-Mail 17\n",
      "Invoice No : 0\n",
      "Invoice No 333-444-444 0\n",
      "Invoice No Invoice 100\n",
      "Invoice No No. 80\n",
      "Invoice No 11083 0\n",
      "Invoice No ashiand, 12\n",
      "Invoice No KY 0\n",
      "Invoice No 41102 0\n",
      "Invoice No Web: 25\n",
      "Invoice No nt 50\n",
      "Invoice No /vww.ksotware 24\n",
      "Invoice No net 33\n",
      "Invoice No Account 31\n",
      "Invoice No # 0\n",
      "Invoice No C1006 0\n",
      "Invoice No Date 25\n",
      "Invoice No 08-14-2008 0\n",
      "Invoice No Due 33\n",
      "Invoice No fy 0\n",
      "Invoice No 08-31-2008 0\n",
      "Invoice No Terms 20\n",
      "Invoice No None 67\n",
      "Invoice No Polo. 22\n",
      "Invoice No PO1234 0\n",
      "Invoice No SalesRep 13\n",
      "Invoice No SalesPersant 15\n",
      "Invoice No Ea 0\n",
      "Invoice No = 0\n",
      "Invoice No SbipTo 33\n",
      "Invoice No ‘Test 20\n",
      "Invoice No Customer 25\n",
      "Invoice No 1234 0\n",
      "Invoice No Main 25\n",
      "Invoice No Street 17\n",
      "Invoice No Ashland, 12\n",
      "Invoice No 41101 0\n",
      "Invoice No Eee 33\n",
      "Invoice No Cig 33\n",
      "Invoice No ue 50\n",
      "Invoice No $10.00 0\n",
      "Invoice No $150.00 0\n",
      "Invoice No $10.00 0\n",
      "Invoice No $100.00, 0\n",
      "Invoice No 8KU1222 0\n",
      "Invoice No Test 25\n",
      "Invoice No Import 33\n",
      "Invoice No Name 33\n",
      "Invoice No - 0\n",
      "Invoice No Description 17\n",
      "Invoice No Goes 25\n",
      "Invoice No Here 25\n",
      "Invoice No Labor 20\n",
      "Invoice No - 0\n",
      "Invoice No Example 14\n",
      "Invoice No labor 20\n",
      "Invoice No iter. 40\n",
      "Invoice No Quartity 12\n",
      "Invoice No is 50\n",
      "Invoice No number 33\n",
      "Invoice No of 50\n",
      "Invoice No hours 20\n",
      "Invoice No spent, 17\n",
      "Invoice No price 60\n",
      "Invoice No is 50\n",
      "Invoice No hourly 17\n",
      "Invoice No rate. 20\n",
      "Invoice No Quartity 12\n",
      "Invoice No accepts 29\n",
      "Invoice No decimal 17\n",
      "Invoice No values 33\n"
     ]
    }
   ],
   "source": [
    "for word in b.split():\n",
    "    print(a,word,fuzz.partial_ratio(a,word))#checking whether the term Invoice No match with each word in the text and \n",
    "    #67 is the amount of acuracy it depend on the user to check"
   ]
  },
  {
   "cell_type": "code",
   "execution_count": null,
   "metadata": {},
   "outputs": [],
   "source": []
  }
 ],
 "metadata": {
  "kernelspec": {
   "display_name": "Python 3",
   "language": "python",
   "name": "python3"
  },
  "language_info": {
   "codemirror_mode": {
    "name": "ipython",
    "version": 3
   },
   "file_extension": ".py",
   "mimetype": "text/x-python",
   "name": "python",
   "nbconvert_exporter": "python",
   "pygments_lexer": "ipython3",
   "version": "3.7.3"
  }
 },
 "nbformat": 4,
 "nbformat_minor": 2
}
